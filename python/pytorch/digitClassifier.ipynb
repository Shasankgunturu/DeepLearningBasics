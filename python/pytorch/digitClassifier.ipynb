{
 "cells": [
  {
   "cell_type": "code",
   "execution_count": 96,
   "metadata": {},
   "outputs": [],
   "source": [
    "import torch\n",
    "import torchvision\n",
    "import torchvision.transforms as transforms\n",
    "import torch.nn as nn\n",
    "import matplotlib.pyplot as plt"
   ]
  },
  {
   "cell_type": "code",
   "execution_count": 97,
   "metadata": {},
   "outputs": [],
   "source": [
    "# device config\n",
    "device = torch.device('cpu')"
   ]
  },
  {
   "cell_type": "code",
   "execution_count": 98,
   "metadata": {},
   "outputs": [],
   "source": [
    "# hyper parameters\n",
    "input_size = 784 #28x28 image size\n",
    "hidden_size = 100\n",
    "num_classes = 10\n",
    "num_epochs = 9\n",
    "batch_size = 100\n",
    "learning_rate = 0.001"
   ]
  },
  {
   "cell_type": "code",
   "execution_count": 109,
   "metadata": {},
   "outputs": [],
   "source": [
    "#MNIST\n",
    "train_dataset = torchvision.datasets.MNIST(root='../../datasets/mnistDigitData', train=True, transform=transforms.ToTensor(), download=True)\n",
    "test_dataset = torchvision.datasets.MNIST(root='../../datasets/mnistDigitData', train=False, transform=transforms.ToTensor(), download=True)"
   ]
  },
  {
   "cell_type": "code",
   "execution_count": 100,
   "metadata": {},
   "outputs": [],
   "source": [
    "train_data = torch.utils.data.DataLoader(dataset=train_dataset, batch_size=batch_size, shuffle=True)\n",
    "test_data = torch.utils.data.DataLoader(dataset=test_dataset, batch_size=batch_size, shuffle=False)"
   ]
  },
  {
   "cell_type": "code",
   "execution_count": 101,
   "metadata": {},
   "outputs": [
    {
     "name": "stdout",
     "output_type": "stream",
     "text": [
      "torch.Size([100, 1, 28, 28]) torch.Size([100])\n"
     ]
    }
   ],
   "source": [
    "example = iter(train_data)\n",
    "sample, labels = next(example)\n",
    "print(sample.shape, labels.shape)\n",
    "# 100 batch size, 1 color channel, and 28x28"
   ]
  },
  {
   "cell_type": "code",
   "execution_count": 102,
   "metadata": {},
   "outputs": [
    {
     "data": {
      "image/png": "[encoded data removed]",
      "text/plain": [
       "<Figure size 640x480 with 9 Axes>"
      ]
     },
     "metadata": {},
     "output_type": "display_data"
    }
   ],
   "source": [
    "for i in range(9):\n",
    "    plt.subplot(3,3,i+1)\n",
    "    plt.imshow(sample[i][0], cmap='gray')\n",
    "plt.show()"
   ]
  },
  {
   "cell_type": "code",
   "execution_count": 103,
   "metadata": {},
   "outputs": [],
   "source": [
    "class NeuralNet(nn.Module):\n",
    "    def __init__(self, input_size, hidden_size, num_classes):\n",
    "        super(NeuralNet, self).__init__()\n",
    "        self.l1 = nn.Linear(input_size, hidden_size)\n",
    "        self.relu = nn.ReLU()\n",
    "        self.l2 = nn.Linear(hidden_size, num_classes)\n",
    "    def forward(self, x):\n",
    "        out = self.l1(x)\n",
    "        out = self.relu(out)\n",
    "        out = self.l2(out)\n",
    "        return out"
   ]
  },
  {
   "cell_type": "code",
   "execution_count": 104,
   "metadata": {},
   "outputs": [],
   "source": [
    "model = NeuralNet(input_size, hidden_size, num_classes)\n",
    "criterion = nn.CrossEntropyLoss()\n",
    "optimizer = torch.optim.Adam(model.parameters(), lr=learning_rate)"
   ]
  },
  {
   "cell_type": "code",
   "execution_count": 105,
   "metadata": {},
   "outputs": [
    {
     "name": "stdout",
     "output_type": "stream",
     "text": [
      "epoch 1/9, step 100/600, loss = 0.4663\n",
      "epoch 1/9, step 200/600, loss = 0.3200\n",
      "epoch 1/9, step 300/600, loss = 0.2951\n",
      "epoch 1/9, step 400/600, loss = 0.2458\n",
      "epoch 1/9, step 500/600, loss = 0.2459\n",
      "epoch 1/9, step 600/600, loss = 0.2644\n",
      "epoch 2/9, step 100/600, loss = 0.2279\n",
      "epoch 2/9, step 200/600, loss = 0.1474\n",
      "epoch 2/9, step 300/600, loss = 0.2180\n",
      "epoch 2/9, step 400/600, loss = 0.1189\n",
      "epoch 2/9, step 500/600, loss = 0.1495\n",
      "epoch 2/9, step 600/600, loss = 0.2257\n",
      "epoch 3/9, step 100/600, loss = 0.1759\n",
      "epoch 3/9, step 200/600, loss = 0.2333\n",
      "epoch 3/9, step 300/600, loss = 0.1214\n",
      "epoch 3/9, step 400/600, loss = 0.1477\n",
      "epoch 3/9, step 500/600, loss = 0.2389\n",
      "epoch 3/9, step 600/600, loss = 0.0829\n",
      "epoch 4/9, step 100/600, loss = 0.0738\n",
      "epoch 4/9, step 200/600, loss = 0.0583\n",
      "epoch 4/9, step 300/600, loss = 0.1077\n",
      "epoch 4/9, step 400/600, loss = 0.0476\n",
      "epoch 4/9, step 500/600, loss = 0.1673\n",
      "epoch 4/9, step 600/600, loss = 0.1207\n",
      "epoch 5/9, step 100/600, loss = 0.0986\n",
      "epoch 5/9, step 200/600, loss = 0.0384\n",
      "epoch 5/9, step 300/600, loss = 0.1287\n",
      "epoch 5/9, step 400/600, loss = 0.0947\n",
      "epoch 5/9, step 500/600, loss = 0.0808\n",
      "epoch 5/9, step 600/600, loss = 0.0981\n",
      "epoch 6/9, step 100/600, loss = 0.1083\n",
      "epoch 6/9, step 200/600, loss = 0.0239\n",
      "epoch 6/9, step 300/600, loss = 0.0819\n",
      "epoch 6/9, step 400/600, loss = 0.0532\n",
      "epoch 6/9, step 500/600, loss = 0.0622\n",
      "epoch 6/9, step 600/600, loss = 0.0466\n",
      "epoch 7/9, step 100/600, loss = 0.2434\n",
      "epoch 7/9, step 200/600, loss = 0.0165\n",
      "epoch 7/9, step 300/600, loss = 0.0292\n",
      "epoch 7/9, step 400/600, loss = 0.0434\n",
      "epoch 7/9, step 500/600, loss = 0.0339\n",
      "epoch 7/9, step 600/600, loss = 0.1285\n",
      "epoch 8/9, step 100/600, loss = 0.0289\n",
      "epoch 8/9, step 200/600, loss = 0.0273\n",
      "epoch 8/9, step 300/600, loss = 0.0933\n",
      "epoch 8/9, step 400/600, loss = 0.0865\n",
      "epoch 8/9, step 500/600, loss = 0.0403\n",
      "epoch 8/9, step 600/600, loss = 0.0619\n",
      "epoch 9/9, step 100/600, loss = 0.0441\n",
      "epoch 9/9, step 200/600, loss = 0.0255\n",
      "epoch 9/9, step 300/600, loss = 0.0102\n",
      "epoch 9/9, step 400/600, loss = 0.0786\n",
      "epoch 9/9, step 500/600, loss = 0.0191\n",
      "epoch 9/9, step 600/600, loss = 0.0370\n"
     ]
    }
   ],
   "source": [
    "n_total_steps = len(train_data) #totalsamples/batchsize\n",
    "for epoch in range(num_epochs):\n",
    "    for i, (images, labels) in enumerate(train_data):\n",
    "        images = images.reshape(-1, 28*28).to(device)\n",
    "        labels = labels.to(device)\n",
    "\n",
    "        #forward\n",
    "        y_predicted = model.forward(images)\n",
    "        loss = criterion(y_predicted, labels)\n",
    "        loss.backward()\n",
    "        optimizer.step()\n",
    "        optimizer.zero_grad()\n",
    "\n",
    "        if (i+1)%100==0:\n",
    "            print(f'epoch {epoch+1}/{num_epochs}, step {i+1}/{n_total_steps}, loss = {loss.item():.4f}')"
   ]
  },
  {
   "cell_type": "code",
   "execution_count": 106,
   "metadata": {},
   "outputs": [
    {
     "name": "stdout",
     "output_type": "stream",
     "text": [
      "accuracy = 97.45\n"
     ]
    }
   ],
   "source": [
    "with torch.no_grad():\n",
    "    n_correct = 0\n",
    "    n_samples = 0\n",
    "    for images, labels in test_data:\n",
    "        images = images.reshape(-1, 28*28).to(device)\n",
    "        labels = labels.to(device)\n",
    "        outputs = model(images)\n",
    "        \n",
    "        #value, index\n",
    "        _, predictions = torch.max(outputs, 1)\n",
    "        n_samples += labels.shape[0]\n",
    "        n_correct += (predictions == labels).sum().item()\n",
    "    acc = 100.0 * n_correct/n_samples\n",
    "    print(f'accuracy = {acc}')\n",
    "    # testing_example = iter(test_data)\n",
    "    # img, label = next(testing_example)\n",
    "    # images = img.reshape(-1, 28*28).to(device)\n",
    "    # labels = labels.to(device)\n",
    "    # results = model(images)\n",
    "    # vals, preds = torch.max(results, 1)\n",
    "    # for i in range(9):\n",
    "    #     plt.subplot(3,3,i+1)\n",
    "    #     plt.imshow(sample[i][0], cmap='gray')\n",
    "    #     print(preds[i])\n",
    "    #     print(labels[i])"
   ]
  },
  {
   "cell_type": "code",
   "execution_count": 107,
   "metadata": {},
   "outputs": [
    {
     "name": "stdout",
     "output_type": "stream",
     "text": [
      "7\n",
      "True label: 7, Predicted label: 7\n",
      "2\n",
      "True label: 2, Predicted label: 2\n",
      "1\n",
      "True label: 1, Predicted label: 1\n",
      "0\n",
      "True label: 0, Predicted label: 0\n",
      "4\n",
      "True label: 4, Predicted label: 4\n",
      "1\n",
      "True label: 1, Predicted label: 1\n",
      "4\n",
      "True label: 4, Predicted label: 4\n",
      "9\n",
      "True label: 9, Predicted label: 9\n",
      "5\n",
      "True label: 5, Predicted label: 5\n"
     ]
    },
    {
     "data": {
      "image/png": "[encoded data removed]",
      "text/plain": [
       "<Figure size 640x480 with 9 Axes>"
      ]
     },
     "metadata": {},
     "output_type": "display_data"
    }
   ],
   "source": [
    "import random\n",
    "random_index = random.randint(0, len(test_data.dataset) - 1)\n",
    "for i in range(9):\n",
    "    random_index = i\n",
    "    image, label = test_data.dataset[random_index]\n",
    "    plt.subplot(3,3,i+1)\n",
    "    plt.imshow(image[0], cmap='gray')\n",
    "    print(label)\n",
    "    image = image.reshape(-1, 28*28).to(device)\n",
    "    with torch.no_grad():\n",
    "        output = model(image)\n",
    "        _, predicted_label = torch.max(output, 1)\n",
    "    predicted_label = predicted_label.item()\n",
    "    print(f\"True label: {label}, Predicted label: {predicted_label}\")"
   ]
  },
  {
   "cell_type": "code",
   "execution_count": null,
   "metadata": {},
   "outputs": [],
   "source": []
  }
 ],
 "metadata": {
  "kernelspec": {
   "display_name": "Python 3",
   "language": "python",
   "name": "python3"
  },
  "language_info": {
   "codemirror_mode": {
    "name": "ipython",
    "version": 3
   },
   "file_extension": ".py",
   "mimetype": "text/x-python",
   "name": "python",
   "nbconvert_exporter": "python",
   "pygments_lexer": "ipython3",
   "version": "3.8.10"
  },
  "orig_nbformat": 4
 },
 "nbformat": 4,
 "nbformat_minor": 2
}
